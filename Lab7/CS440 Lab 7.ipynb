{
 "metadata": {
  "name": "",
  "signature": "sha256:83a2d2dceaac58d91e6afef24d86ef278fb3f107a38a0ce8c317d03acef69c21"
 },
 "nbformat": 3,
 "nbformat_minor": 0,
 "worksheets": [
  {
   "cells": [
    {
     "cell_type": "code",
     "collapsed": false,
     "input": [
      "from timeit import timeit\n",
      "import numpy as np\n",
      "import re\n",
      "from subprocess import call, check_output"
     ],
     "language": "python",
     "metadata": {},
     "outputs": [],
     "prompt_number": 58
    },
    {
     "cell_type": "code",
     "collapsed": false,
     "input": [
      "def count_files(result):\n",
      "    lines = result.split('\\n')\n",
      "    files = 1\n",
      "    last_line = \"\"\n",
      "    \n",
      "    for line in lines:\n",
      "        if line.split(':')[0] == last_line:\n",
      "            files += 1\n",
      "        last_line = line.split(':')[0]\n",
      "        \n",
      "    return files\n",
      "\n",
      "def profile(command, query):\n",
      "    \"\"\"Runs a command 30 times to profile it, returning a list of runs\"\"\"\n",
      "    times = []\n",
      "    instances = []\n",
      "    files = []\n",
      "    if command[:3] == 'ack':\n",
      "        for i in range(30):\n",
      "            times.append(timeit('subprocess.call(\\\"{c}\\\")'.format(c=command), \n",
      "                                setup=\"import subprocess\", \n",
      "                                number=1\n",
      "                                )\n",
      "                         )\n",
      "            output = check_output(command)\n",
      "            instances.append(\n",
      "                            len(re.findall(query, output))\n",
      "                            )\n",
      "            files.append(count_files(output))\n",
      "    else:\n",
      "        for i in range(30):\n",
      "            times.append(timeit(\"subprocess.call(\\\"{c}\\\", shell=True)\".format(c=command), \n",
      "                                setup=\"import subprocess\", \n",
      "                                number=1\n",
      "                                )\n",
      "                         )\n",
      "            output = check_output(command, shell=True)\n",
      "            instances.append(\n",
      "                            len(re.findall(query, output))\n",
      "                            )\n",
      "            files.append(count_files(output))\n",
      "            \n",
      "    return (command, times, instances, files)\n",
      "\n",
      "def stats(values):\n",
      "    return {\n",
      "            'std': np.std(values),\n",
      "            'mean': np.mean(values),\n",
      "            'min': np.amin(values),\n",
      "            'max': np.amax(values)\n",
      "            }\n",
      "\n",
      "results = {}\n",
      "\n",
      "def build_result (command, times, instances, files):\n",
      "    \"\"\"Takes the result tuple from a profile() command and adds it to the results dict\"\"\"\n",
      "    results[command] = {\n",
      "            'times' : stats(times),\n",
      "            'instances' : stats(instances),\n",
      "            'files' : stats(files)\n",
      "            }"
     ],
     "language": "python",
     "metadata": {},
     "outputs": [],
     "prompt_number": 89
    },
    {
     "cell_type": "code",
     "collapsed": false,
     "input": [
      "#-- DO TEST ONE: ---------------------------------#\n",
      "#-- search ~/Documents for Java source code files\n",
      "#-- which contain the word \"Twitter\"\n",
      "#build_result(*profile('ag --java twitter ~/Documents', 'twitter'))\n",
      "build_result(*profile('grep -r -i --include \\*.java twitter ~/Documents', 'twitter'))"
     ],
     "language": "python",
     "metadata": {},
     "outputs": [],
     "prompt_number": 98
    },
    {
     "cell_type": "code",
     "collapsed": false,
     "input": [
      "#-- DO TEST TWO: ---------------------------------#\n",
      "#-- search ~/Documents for Python source code files containing classes\n",
      "build_result(*profile('ag --python class ~/Documents', 'class'))\n",
      "build_result(*profile('grep -r -i --include \\*.py class ~/Documents', 'class'))"
     ],
     "language": "python",
     "metadata": {},
     "outputs": [],
     "prompt_number": 93
    },
    {
     "cell_type": "code",
     "collapsed": false,
     "input": [
      "#-- DO TEST THREE: ---------------------------------#\n",
      "#-- search ~/Documents/DOCUMENTS/Projects/Knightingale for\n",
      "# Java projects containing the word \"knightingale\"\n",
      "build_result(*profile('ag  --java knightingale ~/Documents/DOCUMENTS/Projects/Knightingale',\n",
      "                        'knightingale'))\n",
      "build_result(*profile('grep -r -i --include \\*.java knightingale ~/Documents/DOCUMENTS/Projects/Knightingale', \n",
      "                       'knightingale'))"
     ],
     "language": "python",
     "metadata": {},
     "outputs": [],
     "prompt_number": 94
    },
    {
     "cell_type": "code",
     "collapsed": false,
     "input": [
      "#-- DO TEST FOUR: ---------------------------------#\n",
      "#-- search ~/Documents/DOCUMENTS/Projects for a \n",
      "# source code files containing strings matching a\n",
      "# regular expression which matches a url ending in .com:\n",
      "# /(\\S+\\.com(\\/\\S+)?)/\n",
      "build_result(*profile('ag  \\\"(\\\\S+\\\\.(com|net|org|edu|gov)(\\\\\\/\\\\S+)?)\\\" ~/Documents/DOCUMENTS/Projects/',\n",
      "                        R'(\\S+\\.(com|net|org|edu|gov)(\\/\\S+)?)'))\n",
      "build_result(*profile('grep -r -e \\\"(\\\\S+\\\\.(com|net|org|edu|gov)(\\\\\\/\\\\S+)?)\\\"~/Documents/DOCUMENTS/Projects/', \n",
      "                       R'(\\S+\\.(com|net|org|edu|gov)(\\/\\S+)?)'))"
     ],
     "language": "python",
     "metadata": {},
     "outputs": [
      {
       "ename": "SyntaxError",
       "evalue": "unexpected character after line continuation character (<timeit-src>, line 6)",
       "output_type": "pyerr",
       "traceback": [
        "\u001b[0;36m  File \u001b[0;32m\"<timeit-src>\"\u001b[0;36m, line \u001b[0;32m6\u001b[0m\n\u001b[0;31m    subprocess.call(\"ag  \"(\\S+\\.(com|net|org|edu|gov)(\\\\/\\S+)?)\" ~/Documents/DOCUMENTS/Projects/\", shell=True,)\u001b[0m\n\u001b[0m                                                                                                               ^\u001b[0m\n\u001b[0;31mSyntaxError\u001b[0m\u001b[0;31m:\u001b[0m unexpected character after line continuation character\n"
       ]
      }
     ],
     "prompt_number": 96
    },
    {
     "cell_type": "code",
     "collapsed": false,
     "input": [
      "results"
     ],
     "language": "python",
     "metadata": {},
     "outputs": [
      {
       "metadata": {},
       "output_type": "pyout",
       "prompt_number": 97,
       "text": [
        "{'ag  --java knightingale ~/Documents/DOCUMENTS/Projects/Knightingale': {'files': {'max': 58,\n",
        "   'mean': 58.0,\n",
        "   'min': 58,\n",
        "   'std': 0.0},\n",
        "  'instances': {'max': 178, 'mean': 178.0, 'min': 178, 'std': 0.0},\n",
        "  'times': {'max': 0.036010026931762695,\n",
        "   'mean': 0.031364742914835611,\n",
        "   'min': 0.028447151184082031,\n",
        "   'std': 0.0018148427043130596}},\n",
        " 'ag --java twitter ~/Documents': {'files': {'max': 97,\n",
        "   'mean': 97.0,\n",
        "   'min': 97,\n",
        "   'std': 0.0},\n",
        "  'instances': {'max': 168, 'mean': 168.0, 'min': 168, 'std': 0.0},\n",
        "  'times': {'max': 0.25213408470153809,\n",
        "   'mean': 0.21598444779713949,\n",
        "   'min': 0.20188784599304199,\n",
        "   'std': 0.0118242923575104}},\n",
        " 'ag --python class ~/Documents': {'files': {'max': 1739,\n",
        "   'mean': 1739.0,\n",
        "   'min': 1739,\n",
        "   'std': 0.0},\n",
        "  'instances': {'max': 2198, 'mean': 2198.0, 'min': 2198, 'std': 0.0},\n",
        "  'times': {'max': 0.2926628589630127,\n",
        "   'mean': 0.24475681781768799,\n",
        "   'min': 0.21982693672180176,\n",
        "   'std': 0.021863485965948976}},\n",
        " 'grep -r -i --include \\\\*.java knightingale ~/Documents/DOCUMENTS/Projects/Knightingale': {'files': {'max': 60,\n",
        "   'mean': 60.0,\n",
        "   'min': 60,\n",
        "   'std': 0.0},\n",
        "  'instances': {'max': 180, 'mean': 180.0, 'min': 180, 'std': 0.0},\n",
        "  'times': {'max': 0.033473014831542969,\n",
        "   'mean': 0.028119707107543947,\n",
        "   'min': 0.024199962615966797,\n",
        "   'std': 0.0020606034048942642}},\n",
        " 'grep -r -i --include \\\\*.java twitter ~/Documents': {'files': {'max': 170,\n",
        "   'mean': 170.0,\n",
        "   'min': 170,\n",
        "   'std': 0.0},\n",
        "  'instances': {'max': 165, 'mean': 165.0, 'min': 165, 'std': 0.0},\n",
        "  'times': {'max': 0.35894298553466797,\n",
        "   'mean': 0.31383216381072998,\n",
        "   'min': 0.29464387893676758,\n",
        "   'std': 0.013968318360704928}},\n",
        " 'grep -r -i --include \\\\*.py class ~/Documents': {'files': {'max': 1867,\n",
        "   'mean': 1867.0,\n",
        "   'min': 1867,\n",
        "   'std': 0.0},\n",
        "  'instances': {'max': 2219, 'mean': 2219.0, 'min': 2219, 'std': 0.0},\n",
        "  'times': {'max': 0.82398319244384766,\n",
        "   'mean': 0.64508262475331624,\n",
        "   'min': 0.60635995864868164,\n",
        "   'std': 0.038860953234475658}}}"
       ]
      }
     ],
     "prompt_number": 97
    },
    {
     "cell_type": "code",
     "collapsed": false,
     "input": [],
     "language": "python",
     "metadata": {},
     "outputs": []
    }
   ],
   "metadata": {}
  }
 ]
}