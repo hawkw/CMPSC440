{
 "metadata": {
  "name": ""
 },
 "nbformat": 3,
 "nbformat_minor": 0,
 "worksheets": [
  {
   "cells": [
    {
     "cell_type": "code",
     "collapsed": false,
     "input": [
      "import timeit\n",
      "import "
     ],
     "language": "python",
     "metadata": {},
     "outputs": [],
     "prompt_number": 1
    },
    {
     "cell_type": "code",
     "collapsed": false,
     "input": [],
     "language": "python",
     "metadata": {},
     "outputs": [
      {
       "output_type": "stream",
       "stream": "stdout",
       "text": [
        "\u001b[1m\u001b[36mApplications\u001b[m\u001b[m             \u001b[1m\u001b[36mConduit\u001b[m\u001b[m                  \u001b[1m\u001b[36mDropbox\u001b[m\u001b[m                  \u001b[1m\u001b[36mLibrary\u001b[m\u001b[m                  \u001b[1m\u001b[36mPublic\u001b[m\u001b[m                   \u001b[1m\u001b[36mconda\u001b[m\u001b[m\r\n",
        "CS440 Lab 3.ipynb        \u001b[1m\u001b[36mDesktop\u001b[m\u001b[m                  FoodLog.ipynb            \u001b[1m\u001b[36mMovies\u001b[m\u001b[m                   \u001b[1m\u001b[36mSamsung\u001b[m\u001b[m                  \u001b[1m\u001b[36mpy3env\u001b[m\u001b[m\r\n",
        "CS440 Lab 5.ipynb        \u001b[1m\u001b[36mDocuments\u001b[m\u001b[m                \u001b[1m\u001b[36mGaslamp Games\u001b[m\u001b[m            \u001b[1m\u001b[36mMusic\u001b[m\u001b[m                    Traversal Analysis.ipynb\r\n",
        "CS440 Lab7.ipynb         \u001b[1m\u001b[36mDownloads\u001b[m\u001b[m                \u001b[1m\u001b[36mGoogle Drive\u001b[m\u001b[m             \u001b[1m\u001b[36mPictures\u001b[m\u001b[m                 \u001b[1m\u001b[36mbin\u001b[m\u001b[m\r\n"
       ]
      },
      {
       "output_type": "stream",
       "stream": "stdout",
       "text": [
        "\u001b[1m\u001b[36mApplications\u001b[m\u001b[m             \u001b[1m\u001b[36mConduit\u001b[m\u001b[m                  \u001b[1m\u001b[36mDropbox\u001b[m\u001b[m                  \u001b[1m\u001b[36mLibrary\u001b[m\u001b[m                  \u001b[1m\u001b[36mPublic\u001b[m\u001b[m                   \u001b[1m\u001b[36mconda\u001b[m\u001b[m\r\n",
        "CS440 Lab 3.ipynb        \u001b[1m\u001b[36mDesktop\u001b[m\u001b[m                  FoodLog.ipynb            \u001b[1m\u001b[36mMovies\u001b[m\u001b[m                   \u001b[1m\u001b[36mSamsung\u001b[m\u001b[m                  \u001b[1m\u001b[36mpy3env\u001b[m\u001b[m\r\n",
        "CS440 Lab 5.ipynb        \u001b[1m\u001b[36mDocuments\u001b[m\u001b[m                \u001b[1m\u001b[36mGaslamp Games\u001b[m\u001b[m            \u001b[1m\u001b[36mMusic\u001b[m\u001b[m                    Traversal Analysis.ipynb\r\n",
        "CS440 Lab7.ipynb         \u001b[1m\u001b[36mDownloads\u001b[m\u001b[m                \u001b[1m\u001b[36mGoogle Drive\u001b[m\u001b[m             \u001b[1m\u001b[36mPictures\u001b[m\u001b[m                 \u001b[1m\u001b[36mbin\u001b[m\u001b[m\r\n"
       ]
      },
      {
       "output_type": "stream",
       "stream": "stdout",
       "text": [
        "\u001b[1m\u001b[36mApplications\u001b[m\u001b[m             \u001b[1m\u001b[36mConduit\u001b[m\u001b[m                  \u001b[1m\u001b[36mDropbox\u001b[m\u001b[m                  \u001b[1m\u001b[36mLibrary\u001b[m\u001b[m                  \u001b[1m\u001b[36mPublic\u001b[m\u001b[m                   \u001b[1m\u001b[36mconda\u001b[m\u001b[m\r\n",
        "CS440 Lab 3.ipynb        \u001b[1m\u001b[36mDesktop\u001b[m\u001b[m                  FoodLog.ipynb            \u001b[1m\u001b[36mMovies\u001b[m\u001b[m                   \u001b[1m\u001b[36mSamsung\u001b[m\u001b[m                  \u001b[1m\u001b[36mpy3env\u001b[m\u001b[m\r\n",
        "CS440 Lab 5.ipynb        \u001b[1m\u001b[36mDocuments\u001b[m\u001b[m                \u001b[1m\u001b[36mGaslamp Games\u001b[m\u001b[m            \u001b[1m\u001b[36mMusic\u001b[m\u001b[m                    Traversal Analysis.ipynb\r\n",
        "CS440 Lab7.ipynb         \u001b[1m\u001b[36mDownloads\u001b[m\u001b[m                \u001b[1m\u001b[36mGoogle Drive\u001b[m\u001b[m             \u001b[1m\u001b[36mPictures\u001b[m\u001b[m                 \u001b[1m\u001b[36mbin\u001b[m\u001b[m\r\n"
       ]
      },
      {
       "output_type": "stream",
       "stream": "stdout",
       "text": [
        "\u001b[1m\u001b[36mApplications\u001b[m\u001b[m             \u001b[1m\u001b[36mConduit\u001b[m\u001b[m                  \u001b[1m\u001b[36mDropbox\u001b[m\u001b[m                  \u001b[1m\u001b[36mLibrary\u001b[m\u001b[m                  \u001b[1m\u001b[36mPublic\u001b[m\u001b[m                   \u001b[1m\u001b[36mconda\u001b[m\u001b[m\r\n",
        "CS440 Lab 3.ipynb        \u001b[1m\u001b[36mDesktop\u001b[m\u001b[m                  FoodLog.ipynb            \u001b[1m\u001b[36mMovies\u001b[m\u001b[m                   \u001b[1m\u001b[36mSamsung\u001b[m\u001b[m                  \u001b[1m\u001b[36mpy3env\u001b[m\u001b[m\r\n",
        "CS440 Lab 5.ipynb        \u001b[1m\u001b[36mDocuments\u001b[m\u001b[m                \u001b[1m\u001b[36mGaslamp Games\u001b[m\u001b[m            \u001b[1m\u001b[36mMusic\u001b[m\u001b[m                    Traversal Analysis.ipynb\r\n",
        "CS440 Lab7.ipynb         \u001b[1m\u001b[36mDownloads\u001b[m\u001b[m                \u001b[1m\u001b[36mGoogle Drive\u001b[m\u001b[m             \u001b[1m\u001b[36mPictures\u001b[m\u001b[m                 \u001b[1m\u001b[36mbin\u001b[m\u001b[m\r\n"
       ]
      },
      {
       "output_type": "stream",
       "stream": "stdout",
       "text": [
        "\u001b[1m\u001b[36mApplications\u001b[m\u001b[m             \u001b[1m\u001b[36mConduit\u001b[m\u001b[m                  \u001b[1m\u001b[36mDropbox\u001b[m\u001b[m                  \u001b[1m\u001b[36mLibrary\u001b[m\u001b[m                  \u001b[1m\u001b[36mPublic\u001b[m\u001b[m                   \u001b[1m\u001b[36mconda\u001b[m\u001b[m\r\n",
        "CS440 Lab 3.ipynb        \u001b[1m\u001b[36mDesktop\u001b[m\u001b[m                  FoodLog.ipynb            \u001b[1m\u001b[36mMovies\u001b[m\u001b[m                   \u001b[1m\u001b[36mSamsung\u001b[m\u001b[m                  \u001b[1m\u001b[36mpy3env\u001b[m\u001b[m\r\n",
        "CS440 Lab 5.ipynb        \u001b[1m\u001b[36mDocuments\u001b[m\u001b[m                \u001b[1m\u001b[36mGaslamp Games\u001b[m\u001b[m            \u001b[1m\u001b[36mMusic\u001b[m\u001b[m                    Traversal Analysis.ipynb\r\n",
        "CS440 Lab7.ipynb         \u001b[1m\u001b[36mDownloads\u001b[m\u001b[m                \u001b[1m\u001b[36mGoogle Drive\u001b[m\u001b[m             \u001b[1m\u001b[36mPictures\u001b[m\u001b[m                 \u001b[1m\u001b[36mbin\u001b[m\u001b[m\r\n"
       ]
      },
      {
       "output_type": "stream",
       "stream": "stdout",
       "text": [
        "\u001b[1m\u001b[36mApplications\u001b[m\u001b[m             \u001b[1m\u001b[36mConduit\u001b[m\u001b[m                  \u001b[1m\u001b[36mDropbox\u001b[m\u001b[m                  \u001b[1m\u001b[36mLibrary\u001b[m\u001b[m                  \u001b[1m\u001b[36mPublic\u001b[m\u001b[m                   \u001b[1m\u001b[36mconda\u001b[m\u001b[m\r\n",
        "CS440 Lab 3.ipynb        \u001b[1m\u001b[36mDesktop\u001b[m\u001b[m                  FoodLog.ipynb            \u001b[1m\u001b[36mMovies\u001b[m\u001b[m                   \u001b[1m\u001b[36mSamsung\u001b[m\u001b[m                  \u001b[1m\u001b[36mpy3env\u001b[m\u001b[m\r\n",
        "CS440 Lab 5.ipynb        \u001b[1m\u001b[36mDocuments\u001b[m\u001b[m                \u001b[1m\u001b[36mGaslamp Games\u001b[m\u001b[m            \u001b[1m\u001b[36mMusic\u001b[m\u001b[m                    Traversal Analysis.ipynb\r\n",
        "CS440 Lab7.ipynb         \u001b[1m\u001b[36mDownloads\u001b[m\u001b[m                \u001b[1m\u001b[36mGoogle Drive\u001b[m\u001b[m             \u001b[1m\u001b[36mPictures\u001b[m\u001b[m                 \u001b[1m\u001b[36mbin\u001b[m\u001b[m\r\n"
       ]
      },
      {
       "output_type": "stream",
       "stream": "stdout",
       "text": [
        "\u001b[1m\u001b[36mApplications\u001b[m\u001b[m             \u001b[1m\u001b[36mConduit\u001b[m\u001b[m                  \u001b[1m\u001b[36mDropbox\u001b[m\u001b[m                  \u001b[1m\u001b[36mLibrary\u001b[m\u001b[m                  \u001b[1m\u001b[36mPublic\u001b[m\u001b[m                   \u001b[1m\u001b[36mconda\u001b[m\u001b[m\r\n",
        "CS440 Lab 3.ipynb        \u001b[1m\u001b[36mDesktop\u001b[m\u001b[m                  FoodLog.ipynb            \u001b[1m\u001b[36mMovies\u001b[m\u001b[m                   \u001b[1m\u001b[36mSamsung\u001b[m\u001b[m                  \u001b[1m\u001b[36mpy3env\u001b[m\u001b[m\r\n",
        "CS440 Lab 5.ipynb        \u001b[1m\u001b[36mDocuments\u001b[m\u001b[m                \u001b[1m\u001b[36mGaslamp Games\u001b[m\u001b[m            \u001b[1m\u001b[36mMusic\u001b[m\u001b[m                    Traversal Analysis.ipynb\r\n",
        "CS440 Lab7.ipynb         \u001b[1m\u001b[36mDownloads\u001b[m\u001b[m                \u001b[1m\u001b[36mGoogle Drive\u001b[m\u001b[m             \u001b[1m\u001b[36mPictures\u001b[m\u001b[m                 \u001b[1m\u001b[36mbin\u001b[m\u001b[m\r\n"
       ]
      },
      {
       "output_type": "stream",
       "stream": "stdout",
       "text": [
        "\u001b[1m\u001b[36mApplications\u001b[m\u001b[m             \u001b[1m\u001b[36mConduit\u001b[m\u001b[m                  \u001b[1m\u001b[36mDropbox\u001b[m\u001b[m                  \u001b[1m\u001b[36mLibrary\u001b[m\u001b[m                  \u001b[1m\u001b[36mPublic\u001b[m\u001b[m                   \u001b[1m\u001b[36mconda\u001b[m\u001b[m\r\n",
        "CS440 Lab 3.ipynb        \u001b[1m\u001b[36mDesktop\u001b[m\u001b[m                  FoodLog.ipynb            \u001b[1m\u001b[36mMovies\u001b[m\u001b[m                   \u001b[1m\u001b[36mSamsung\u001b[m\u001b[m                  \u001b[1m\u001b[36mpy3env\u001b[m\u001b[m\r\n",
        "CS440 Lab 5.ipynb        \u001b[1m\u001b[36mDocuments\u001b[m\u001b[m                \u001b[1m\u001b[36mGaslamp Games\u001b[m\u001b[m            \u001b[1m\u001b[36mMusic\u001b[m\u001b[m                    Traversal Analysis.ipynb\r\n",
        "CS440 Lab7.ipynb         \u001b[1m\u001b[36mDownloads\u001b[m\u001b[m                \u001b[1m\u001b[36mGoogle Drive\u001b[m\u001b[m             \u001b[1m\u001b[36mPictures\u001b[m\u001b[m                 \u001b[1m\u001b[36mbin\u001b[m\u001b[m\r\n"
       ]
      },
      {
       "output_type": "stream",
       "stream": "stdout",
       "text": [
        "\u001b[1m\u001b[36mApplications\u001b[m\u001b[m             \u001b[1m\u001b[36mConduit\u001b[m\u001b[m                  \u001b[1m\u001b[36mDropbox\u001b[m\u001b[m                  \u001b[1m\u001b[36mLibrary\u001b[m\u001b[m                  \u001b[1m\u001b[36mPublic\u001b[m\u001b[m                   \u001b[1m\u001b[36mconda\u001b[m\u001b[m\r\n",
        "CS440 Lab 3.ipynb        \u001b[1m\u001b[36mDesktop\u001b[m\u001b[m                  FoodLog.ipynb            \u001b[1m\u001b[36mMovies\u001b[m\u001b[m                   \u001b[1m\u001b[36mSamsung\u001b[m\u001b[m                  \u001b[1m\u001b[36mpy3env\u001b[m\u001b[m\r\n",
        "CS440 Lab 5.ipynb        \u001b[1m\u001b[36mDocuments\u001b[m\u001b[m                \u001b[1m\u001b[36mGaslamp Games\u001b[m\u001b[m            \u001b[1m\u001b[36mMusic\u001b[m\u001b[m                    Traversal Analysis.ipynb\r\n",
        "CS440 Lab7.ipynb         \u001b[1m\u001b[36mDownloads\u001b[m\u001b[m                \u001b[1m\u001b[36mGoogle Drive\u001b[m\u001b[m             \u001b[1m\u001b[36mPictures\u001b[m\u001b[m                 \u001b[1m\u001b[36mbin\u001b[m\u001b[m\r\n"
       ]
      },
      {
       "output_type": "stream",
       "stream": "stdout",
       "text": [
        "\u001b[1m\u001b[36mApplications\u001b[m\u001b[m             \u001b[1m\u001b[36mConduit\u001b[m\u001b[m                  \u001b[1m\u001b[36mDropbox\u001b[m\u001b[m                  \u001b[1m\u001b[36mLibrary\u001b[m\u001b[m                  \u001b[1m\u001b[36mPublic\u001b[m\u001b[m                   \u001b[1m\u001b[36mconda\u001b[m\u001b[m\r\n",
        "CS440 Lab 3.ipynb        \u001b[1m\u001b[36mDesktop\u001b[m\u001b[m                  FoodLog.ipynb            \u001b[1m\u001b[36mMovies\u001b[m\u001b[m                   \u001b[1m\u001b[36mSamsung\u001b[m\u001b[m                  \u001b[1m\u001b[36mpy3env\u001b[m\u001b[m\r\n",
        "CS440 Lab 5.ipynb        \u001b[1m\u001b[36mDocuments\u001b[m\u001b[m                \u001b[1m\u001b[36mGaslamp Games\u001b[m\u001b[m            \u001b[1m\u001b[36mMusic\u001b[m\u001b[m                    Traversal Analysis.ipynb\r\n",
        "CS440 Lab7.ipynb         \u001b[1m\u001b[36mDownloads\u001b[m\u001b[m                \u001b[1m\u001b[36mGoogle Drive\u001b[m\u001b[m             \u001b[1m\u001b[36mPictures\u001b[m\u001b[m                 \u001b[1m\u001b[36mbin\u001b[m\u001b[m\r\n"
       ]
      },
      {
       "output_type": "stream",
       "stream": "stdout",
       "text": [
        "\u001b[1m\u001b[36mApplications\u001b[m\u001b[m             \u001b[1m\u001b[36mConduit\u001b[m\u001b[m                  \u001b[1m\u001b[36mDropbox\u001b[m\u001b[m                  \u001b[1m\u001b[36mLibrary\u001b[m\u001b[m                  \u001b[1m\u001b[36mPublic\u001b[m\u001b[m                   \u001b[1m\u001b[36mconda\u001b[m\u001b[m\r\n",
        "CS440 Lab 3.ipynb        \u001b[1m\u001b[36mDesktop\u001b[m\u001b[m                  FoodLog.ipynb            \u001b[1m\u001b[36mMovies\u001b[m\u001b[m                   \u001b[1m\u001b[36mSamsung\u001b[m\u001b[m                  \u001b[1m\u001b[36mpy3env\u001b[m\u001b[m\r\n",
        "CS440 Lab 5.ipynb        \u001b[1m\u001b[36mDocuments\u001b[m\u001b[m                \u001b[1m\u001b[36mGaslamp Games\u001b[m\u001b[m            \u001b[1m\u001b[36mMusic\u001b[m\u001b[m                    Traversal Analysis.ipynb\r\n",
        "CS440 Lab7.ipynb         \u001b[1m\u001b[36mDownloads\u001b[m\u001b[m                \u001b[1m\u001b[36mGoogle Drive\u001b[m\u001b[m             \u001b[1m\u001b[36mPictures\u001b[m\u001b[m                 \u001b[1m\u001b[36mbin\u001b[m\u001b[m\r\n"
       ]
      },
      {
       "output_type": "stream",
       "stream": "stdout",
       "text": [
        "\u001b[1m\u001b[36mApplications\u001b[m\u001b[m             \u001b[1m\u001b[36mConduit\u001b[m\u001b[m                  \u001b[1m\u001b[36mDropbox\u001b[m\u001b[m                  \u001b[1m\u001b[36mLibrary\u001b[m\u001b[m                  \u001b[1m\u001b[36mPublic\u001b[m\u001b[m                   \u001b[1m\u001b[36mconda\u001b[m\u001b[m\r\n",
        "CS440 Lab 3.ipynb        \u001b[1m\u001b[36mDesktop\u001b[m\u001b[m                  FoodLog.ipynb            \u001b[1m\u001b[36mMovies\u001b[m\u001b[m                   \u001b[1m\u001b[36mSamsung\u001b[m\u001b[m                  \u001b[1m\u001b[36mpy3env\u001b[m\u001b[m\r\n",
        "CS440 Lab 5.ipynb        \u001b[1m\u001b[36mDocuments\u001b[m\u001b[m                \u001b[1m\u001b[36mGaslamp Games\u001b[m\u001b[m            \u001b[1m\u001b[36mMusic\u001b[m\u001b[m                    Traversal Analysis.ipynb\r\n",
        "CS440 Lab7.ipynb         \u001b[1m\u001b[36mDownloads\u001b[m\u001b[m                \u001b[1m\u001b[36mGoogle Drive\u001b[m\u001b[m             \u001b[1m\u001b[36mPictures\u001b[m\u001b[m                 \u001b[1m\u001b[36mbin\u001b[m\u001b[m\r\n"
       ]
      },
      {
       "output_type": "stream",
       "stream": "stdout",
       "text": [
        "\u001b[1m\u001b[36mApplications\u001b[m\u001b[m             \u001b[1m\u001b[36mConduit\u001b[m\u001b[m                  \u001b[1m\u001b[36mDropbox\u001b[m\u001b[m                  \u001b[1m\u001b[36mLibrary\u001b[m\u001b[m                  \u001b[1m\u001b[36mPublic\u001b[m\u001b[m                   \u001b[1m\u001b[36mconda\u001b[m\u001b[m\r\n",
        "CS440 Lab 3.ipynb        \u001b[1m\u001b[36mDesktop\u001b[m\u001b[m                  FoodLog.ipynb            \u001b[1m\u001b[36mMovies\u001b[m\u001b[m                   \u001b[1m\u001b[36mSamsung\u001b[m\u001b[m                  \u001b[1m\u001b[36mpy3env\u001b[m\u001b[m\r\n",
        "CS440 Lab 5.ipynb        \u001b[1m\u001b[36mDocuments\u001b[m\u001b[m                \u001b[1m\u001b[36mGaslamp Games\u001b[m\u001b[m            \u001b[1m\u001b[36mMusic\u001b[m\u001b[m                    Traversal Analysis.ipynb\r\n",
        "CS440 Lab7.ipynb         \u001b[1m\u001b[36mDownloads\u001b[m\u001b[m                \u001b[1m\u001b[36mGoogle Drive\u001b[m\u001b[m             \u001b[1m\u001b[36mPictures\u001b[m\u001b[m                 \u001b[1m\u001b[36mbin\u001b[m\u001b[m\r\n"
       ]
      },
      {
       "output_type": "stream",
       "stream": "stdout",
       "text": [
        "\u001b[1m\u001b[36mApplications\u001b[m\u001b[m             \u001b[1m\u001b[36mConduit\u001b[m\u001b[m                  \u001b[1m\u001b[36mDropbox\u001b[m\u001b[m                  \u001b[1m\u001b[36mLibrary\u001b[m\u001b[m                  \u001b[1m\u001b[36mPublic\u001b[m\u001b[m                   \u001b[1m\u001b[36mconda\u001b[m\u001b[m\r\n",
        "CS440 Lab 3.ipynb        \u001b[1m\u001b[36mDesktop\u001b[m\u001b[m                  FoodLog.ipynb            \u001b[1m\u001b[36mMovies\u001b[m\u001b[m                   \u001b[1m\u001b[36mSamsung\u001b[m\u001b[m                  \u001b[1m\u001b[36mpy3env\u001b[m\u001b[m\r\n",
        "CS440 Lab 5.ipynb        \u001b[1m\u001b[36mDocuments\u001b[m\u001b[m                \u001b[1m\u001b[36mGaslamp Games\u001b[m\u001b[m            \u001b[1m\u001b[36mMusic\u001b[m\u001b[m                    Traversal Analysis.ipynb\r\n",
        "CS440 Lab7.ipynb         \u001b[1m\u001b[36mDownloads\u001b[m\u001b[m                \u001b[1m\u001b[36mGoogle Drive\u001b[m\u001b[m             \u001b[1m\u001b[36mPictures\u001b[m\u001b[m                 \u001b[1m\u001b[36mbin\u001b[m\u001b[m\r\n"
       ]
      },
      {
       "output_type": "stream",
       "stream": "stdout",
       "text": [
        "\u001b[1m\u001b[36mApplications\u001b[m\u001b[m             \u001b[1m\u001b[36mConduit\u001b[m\u001b[m                  \u001b[1m\u001b[36mDropbox\u001b[m\u001b[m                  \u001b[1m\u001b[36mLibrary\u001b[m\u001b[m                  \u001b[1m\u001b[36mPublic\u001b[m\u001b[m                   \u001b[1m\u001b[36mconda\u001b[m\u001b[m\r\n",
        "CS440 Lab 3.ipynb        \u001b[1m\u001b[36mDesktop\u001b[m\u001b[m                  FoodLog.ipynb            \u001b[1m\u001b[36mMovies\u001b[m\u001b[m                   \u001b[1m\u001b[36mSamsung\u001b[m\u001b[m                  \u001b[1m\u001b[36mpy3env\u001b[m\u001b[m\r\n",
        "CS440 Lab 5.ipynb        \u001b[1m\u001b[36mDocuments\u001b[m\u001b[m                \u001b[1m\u001b[36mGaslamp Games\u001b[m\u001b[m            \u001b[1m\u001b[36mMusic\u001b[m\u001b[m                    Traversal Analysis.ipynb\r\n",
        "CS440 Lab7.ipynb         \u001b[1m\u001b[36mDownloads\u001b[m\u001b[m                \u001b[1m\u001b[36mGoogle Drive\u001b[m\u001b[m             \u001b[1m\u001b[36mPictures\u001b[m\u001b[m                 \u001b[1m\u001b[36mbin\u001b[m\u001b[m\r\n"
       ]
      },
      {
       "output_type": "stream",
       "stream": "stdout",
       "text": [
        "\u001b[1m\u001b[36mApplications\u001b[m\u001b[m             \u001b[1m\u001b[36mConduit\u001b[m\u001b[m                  \u001b[1m\u001b[36mDropbox\u001b[m\u001b[m                  \u001b[1m\u001b[36mLibrary\u001b[m\u001b[m                  \u001b[1m\u001b[36mPublic\u001b[m\u001b[m                   \u001b[1m\u001b[36mconda\u001b[m\u001b[m\r\n",
        "CS440 Lab 3.ipynb        \u001b[1m\u001b[36mDesktop\u001b[m\u001b[m                  FoodLog.ipynb            \u001b[1m\u001b[36mMovies\u001b[m\u001b[m                   \u001b[1m\u001b[36mSamsung\u001b[m\u001b[m                  \u001b[1m\u001b[36mpy3env\u001b[m\u001b[m\r\n",
        "CS440 Lab 5.ipynb        \u001b[1m\u001b[36mDocuments\u001b[m\u001b[m                \u001b[1m\u001b[36mGaslamp Games\u001b[m\u001b[m            \u001b[1m\u001b[36mMusic\u001b[m\u001b[m                    Traversal Analysis.ipynb\r\n",
        "CS440 Lab7.ipynb         \u001b[1m\u001b[36mDownloads\u001b[m\u001b[m                \u001b[1m\u001b[36mGoogle Drive\u001b[m\u001b[m             \u001b[1m\u001b[36mPictures\u001b[m\u001b[m                 \u001b[1m\u001b[36mbin\u001b[m\u001b[m\r\n"
       ]
      },
      {
       "output_type": "stream",
       "stream": "stdout",
       "text": [
        "\u001b[1m\u001b[36mApplications\u001b[m\u001b[m             \u001b[1m\u001b[36mConduit\u001b[m\u001b[m                  \u001b[1m\u001b[36mDropbox\u001b[m\u001b[m                  \u001b[1m\u001b[36mLibrary\u001b[m\u001b[m                  \u001b[1m\u001b[36mPublic\u001b[m\u001b[m                   \u001b[1m\u001b[36mconda\u001b[m\u001b[m\r\n",
        "CS440 Lab 3.ipynb        \u001b[1m\u001b[36mDesktop\u001b[m\u001b[m                  FoodLog.ipynb            \u001b[1m\u001b[36mMovies\u001b[m\u001b[m                   \u001b[1m\u001b[36mSamsung\u001b[m\u001b[m                  \u001b[1m\u001b[36mpy3env\u001b[m\u001b[m\r\n",
        "CS440 Lab 5.ipynb        \u001b[1m\u001b[36mDocuments\u001b[m\u001b[m                \u001b[1m\u001b[36mGaslamp Games\u001b[m\u001b[m            \u001b[1m\u001b[36mMusic\u001b[m\u001b[m                    Traversal Analysis.ipynb\r\n",
        "CS440 Lab7.ipynb         \u001b[1m\u001b[36mDownloads\u001b[m\u001b[m                \u001b[1m\u001b[36mGoogle Drive\u001b[m\u001b[m             \u001b[1m\u001b[36mPictures\u001b[m\u001b[m                 \u001b[1m\u001b[36mbin\u001b[m\u001b[m\r\n"
       ]
      },
      {
       "output_type": "stream",
       "stream": "stdout",
       "text": [
        "\u001b[1m\u001b[36mApplications\u001b[m\u001b[m             \u001b[1m\u001b[36mConduit\u001b[m\u001b[m                  \u001b[1m\u001b[36mDropbox\u001b[m\u001b[m                  \u001b[1m\u001b[36mLibrary\u001b[m\u001b[m                  \u001b[1m\u001b[36mPublic\u001b[m\u001b[m                   \u001b[1m\u001b[36mconda\u001b[m\u001b[m\r\n",
        "CS440 Lab 3.ipynb        \u001b[1m\u001b[36mDesktop\u001b[m\u001b[m                  FoodLog.ipynb            \u001b[1m\u001b[36mMovies\u001b[m\u001b[m                   \u001b[1m\u001b[36mSamsung\u001b[m\u001b[m                  \u001b[1m\u001b[36mpy3env\u001b[m\u001b[m\r\n",
        "CS440 Lab 5.ipynb        \u001b[1m\u001b[36mDocuments\u001b[m\u001b[m                \u001b[1m\u001b[36mGaslamp Games\u001b[m\u001b[m            \u001b[1m\u001b[36mMusic\u001b[m\u001b[m                    Traversal Analysis.ipynb\r\n",
        "CS440 Lab7.ipynb         \u001b[1m\u001b[36mDownloads\u001b[m\u001b[m                \u001b[1m\u001b[36mGoogle Drive\u001b[m\u001b[m             \u001b[1m\u001b[36mPictures\u001b[m\u001b[m                 \u001b[1m\u001b[36mbin\u001b[m\u001b[m\r\n"
       ]
      },
      {
       "output_type": "stream",
       "stream": "stdout",
       "text": [
        "\u001b[1m\u001b[36mApplications\u001b[m\u001b[m             \u001b[1m\u001b[36mConduit\u001b[m\u001b[m                  \u001b[1m\u001b[36mDropbox\u001b[m\u001b[m                  \u001b[1m\u001b[36mLibrary\u001b[m\u001b[m                  \u001b[1m\u001b[36mPublic\u001b[m\u001b[m                   \u001b[1m\u001b[36mconda\u001b[m\u001b[m\r\n",
        "CS440 Lab 3.ipynb        \u001b[1m\u001b[36mDesktop\u001b[m\u001b[m                  FoodLog.ipynb            \u001b[1m\u001b[36mMovies\u001b[m\u001b[m                   \u001b[1m\u001b[36mSamsung\u001b[m\u001b[m                  \u001b[1m\u001b[36mpy3env\u001b[m\u001b[m\r\n",
        "CS440 Lab 5.ipynb        \u001b[1m\u001b[36mDocuments\u001b[m\u001b[m                \u001b[1m\u001b[36mGaslamp Games\u001b[m\u001b[m            \u001b[1m\u001b[36mMusic\u001b[m\u001b[m                    Traversal Analysis.ipynb\r\n",
        "CS440 Lab7.ipynb         \u001b[1m\u001b[36mDownloads\u001b[m\u001b[m                \u001b[1m\u001b[36mGoogle Drive\u001b[m\u001b[m             \u001b[1m\u001b[36mPictures\u001b[m\u001b[m                 \u001b[1m\u001b[36mbin\u001b[m\u001b[m\r\n"
       ]
      },
      {
       "output_type": "stream",
       "stream": "stdout",
       "text": [
        "\u001b[1m\u001b[36mApplications\u001b[m\u001b[m             \u001b[1m\u001b[36mConduit\u001b[m\u001b[m                  \u001b[1m\u001b[36mDropbox\u001b[m\u001b[m                  \u001b[1m\u001b[36mLibrary\u001b[m\u001b[m                  \u001b[1m\u001b[36mPublic\u001b[m\u001b[m                   \u001b[1m\u001b[36mconda\u001b[m\u001b[m\r\n",
        "CS440 Lab 3.ipynb        \u001b[1m\u001b[36mDesktop\u001b[m\u001b[m                  FoodLog.ipynb            \u001b[1m\u001b[36mMovies\u001b[m\u001b[m                   \u001b[1m\u001b[36mSamsung\u001b[m\u001b[m                  \u001b[1m\u001b[36mpy3env\u001b[m\u001b[m\r\n",
        "CS440 Lab 5.ipynb        \u001b[1m\u001b[36mDocuments\u001b[m\u001b[m                \u001b[1m\u001b[36mGaslamp Games\u001b[m\u001b[m            \u001b[1m\u001b[36mMusic\u001b[m\u001b[m                    Traversal Analysis.ipynb\r\n",
        "CS440 Lab7.ipynb         \u001b[1m\u001b[36mDownloads\u001b[m\u001b[m                \u001b[1m\u001b[36mGoogle Drive\u001b[m\u001b[m             \u001b[1m\u001b[36mPictures\u001b[m\u001b[m                 \u001b[1m\u001b[36mbin\u001b[m\u001b[m\r\n"
       ]
      },
      {
       "output_type": "stream",
       "stream": "stdout",
       "text": [
        "\u001b[1m\u001b[36mApplications\u001b[m\u001b[m             \u001b[1m\u001b[36mConduit\u001b[m\u001b[m                  \u001b[1m\u001b[36mDropbox\u001b[m\u001b[m                  \u001b[1m\u001b[36mLibrary\u001b[m\u001b[m                  \u001b[1m\u001b[36mPublic\u001b[m\u001b[m                   \u001b[1m\u001b[36mconda\u001b[m\u001b[m\r\n",
        "CS440 Lab 3.ipynb        \u001b[1m\u001b[36mDesktop\u001b[m\u001b[m                  FoodLog.ipynb            \u001b[1m\u001b[36mMovies\u001b[m\u001b[m                   \u001b[1m\u001b[36mSamsung\u001b[m\u001b[m                  \u001b[1m\u001b[36mpy3env\u001b[m\u001b[m\r\n",
        "CS440 Lab 5.ipynb        \u001b[1m\u001b[36mDocuments\u001b[m\u001b[m                \u001b[1m\u001b[36mGaslamp Games\u001b[m\u001b[m            \u001b[1m\u001b[36mMusic\u001b[m\u001b[m                    Traversal Analysis.ipynb\r\n",
        "CS440 Lab7.ipynb         \u001b[1m\u001b[36mDownloads\u001b[m\u001b[m                \u001b[1m\u001b[36mGoogle Drive\u001b[m\u001b[m             \u001b[1m\u001b[36mPictures\u001b[m\u001b[m                 \u001b[1m\u001b[36mbin\u001b[m\u001b[m\r\n"
       ]
      },
      {
       "output_type": "stream",
       "stream": "stdout",
       "text": [
        "\u001b[1m\u001b[36mApplications\u001b[m\u001b[m             \u001b[1m\u001b[36mConduit\u001b[m\u001b[m                  \u001b[1m\u001b[36mDropbox\u001b[m\u001b[m                  \u001b[1m\u001b[36mLibrary\u001b[m\u001b[m                  \u001b[1m\u001b[36mPublic\u001b[m\u001b[m                   \u001b[1m\u001b[36mconda\u001b[m\u001b[m\r\n",
        "CS440 Lab 3.ipynb        \u001b[1m\u001b[36mDesktop\u001b[m\u001b[m                  FoodLog.ipynb            \u001b[1m\u001b[36mMovies\u001b[m\u001b[m                   \u001b[1m\u001b[36mSamsung\u001b[m\u001b[m                  \u001b[1m\u001b[36mpy3env\u001b[m\u001b[m\r\n",
        "CS440 Lab 5.ipynb        \u001b[1m\u001b[36mDocuments\u001b[m\u001b[m                \u001b[1m\u001b[36mGaslamp Games\u001b[m\u001b[m            \u001b[1m\u001b[36mMusic\u001b[m\u001b[m                    Traversal Analysis.ipynb\r\n",
        "CS440 Lab7.ipynb         \u001b[1m\u001b[36mDownloads\u001b[m\u001b[m                \u001b[1m\u001b[36mGoogle Drive\u001b[m\u001b[m             \u001b[1m\u001b[36mPictures\u001b[m\u001b[m                 \u001b[1m\u001b[36mbin\u001b[m\u001b[m\r\n"
       ]
      },
      {
       "output_type": "stream",
       "stream": "stdout",
       "text": [
        "\u001b[1m\u001b[36mApplications\u001b[m\u001b[m             \u001b[1m\u001b[36mConduit\u001b[m\u001b[m                  \u001b[1m\u001b[36mDropbox\u001b[m\u001b[m                  \u001b[1m\u001b[36mLibrary\u001b[m\u001b[m                  \u001b[1m\u001b[36mPublic\u001b[m\u001b[m                   \u001b[1m\u001b[36mconda\u001b[m\u001b[m\r\n",
        "CS440 Lab 3.ipynb        \u001b[1m\u001b[36mDesktop\u001b[m\u001b[m                  FoodLog.ipynb            \u001b[1m\u001b[36mMovies\u001b[m\u001b[m                   \u001b[1m\u001b[36mSamsung\u001b[m\u001b[m                  \u001b[1m\u001b[36mpy3env\u001b[m\u001b[m\r\n",
        "CS440 Lab 5.ipynb        \u001b[1m\u001b[36mDocuments\u001b[m\u001b[m                \u001b[1m\u001b[36mGaslamp Games\u001b[m\u001b[m            \u001b[1m\u001b[36mMusic\u001b[m\u001b[m                    Traversal Analysis.ipynb\r\n",
        "CS440 Lab7.ipynb         \u001b[1m\u001b[36mDownloads\u001b[m\u001b[m                \u001b[1m\u001b[36mGoogle Drive\u001b[m\u001b[m             \u001b[1m\u001b[36mPictures\u001b[m\u001b[m                 \u001b[1m\u001b[36mbin\u001b[m\u001b[m\r\n"
       ]
      },
      {
       "output_type": "stream",
       "stream": "stdout",
       "text": [
        "\u001b[1m\u001b[36mApplications\u001b[m\u001b[m             \u001b[1m\u001b[36mConduit\u001b[m\u001b[m                  \u001b[1m\u001b[36mDropbox\u001b[m\u001b[m                  \u001b[1m\u001b[36mLibrary\u001b[m\u001b[m                  \u001b[1m\u001b[36mPublic\u001b[m\u001b[m                   \u001b[1m\u001b[36mconda\u001b[m\u001b[m\r\n",
        "CS440 Lab 3.ipynb        \u001b[1m\u001b[36mDesktop\u001b[m\u001b[m                  FoodLog.ipynb            \u001b[1m\u001b[36mMovies\u001b[m\u001b[m                   \u001b[1m\u001b[36mSamsung\u001b[m\u001b[m                  \u001b[1m\u001b[36mpy3env\u001b[m\u001b[m\r\n",
        "CS440 Lab 5.ipynb        \u001b[1m\u001b[36mDocuments\u001b[m\u001b[m                \u001b[1m\u001b[36mGaslamp Games\u001b[m\u001b[m            \u001b[1m\u001b[36mMusic\u001b[m\u001b[m                    Traversal Analysis.ipynb\r\n",
        "CS440 Lab7.ipynb         \u001b[1m\u001b[36mDownloads\u001b[m\u001b[m                \u001b[1m\u001b[36mGoogle Drive\u001b[m\u001b[m             \u001b[1m\u001b[36mPictures\u001b[m\u001b[m                 \u001b[1m\u001b[36mbin\u001b[m\u001b[m\r\n"
       ]
      },
      {
       "output_type": "stream",
       "stream": "stdout",
       "text": [
        "\u001b[1m\u001b[36mApplications\u001b[m\u001b[m             \u001b[1m\u001b[36mConduit\u001b[m\u001b[m                  \u001b[1m\u001b[36mDropbox\u001b[m\u001b[m                  \u001b[1m\u001b[36mLibrary\u001b[m\u001b[m                  \u001b[1m\u001b[36mPublic\u001b[m\u001b[m                   \u001b[1m\u001b[36mconda\u001b[m\u001b[m\r\n",
        "CS440 Lab 3.ipynb        \u001b[1m\u001b[36mDesktop\u001b[m\u001b[m                  FoodLog.ipynb            \u001b[1m\u001b[36mMovies\u001b[m\u001b[m                   \u001b[1m\u001b[36mSamsung\u001b[m\u001b[m                  \u001b[1m\u001b[36mpy3env\u001b[m\u001b[m\r\n",
        "CS440 Lab 5.ipynb        \u001b[1m\u001b[36mDocuments\u001b[m\u001b[m                \u001b[1m\u001b[36mGaslamp Games\u001b[m\u001b[m            \u001b[1m\u001b[36mMusic\u001b[m\u001b[m                    Traversal Analysis.ipynb\r\n",
        "CS440 Lab7.ipynb         \u001b[1m\u001b[36mDownloads\u001b[m\u001b[m                \u001b[1m\u001b[36mGoogle Drive\u001b[m\u001b[m             \u001b[1m\u001b[36mPictures\u001b[m\u001b[m                 \u001b[1m\u001b[36mbin\u001b[m\u001b[m\r\n"
       ]
      },
      {
       "output_type": "stream",
       "stream": "stdout",
       "text": [
        "\u001b[1m\u001b[36mApplications\u001b[m\u001b[m             \u001b[1m\u001b[36mConduit\u001b[m\u001b[m                  \u001b[1m\u001b[36mDropbox\u001b[m\u001b[m                  \u001b[1m\u001b[36mLibrary\u001b[m\u001b[m                  \u001b[1m\u001b[36mPublic\u001b[m\u001b[m                   \u001b[1m\u001b[36mconda\u001b[m\u001b[m\r\n",
        "CS440 Lab 3.ipynb        \u001b[1m\u001b[36mDesktop\u001b[m\u001b[m                  FoodLog.ipynb            \u001b[1m\u001b[36mMovies\u001b[m\u001b[m                   \u001b[1m\u001b[36mSamsung\u001b[m\u001b[m                  \u001b[1m\u001b[36mpy3env\u001b[m\u001b[m\r\n",
        "CS440 Lab 5.ipynb        \u001b[1m\u001b[36mDocuments\u001b[m\u001b[m                \u001b[1m\u001b[36mGaslamp Games\u001b[m\u001b[m            \u001b[1m\u001b[36mMusic\u001b[m\u001b[m                    Traversal Analysis.ipynb\r\n",
        "CS440 Lab7.ipynb         \u001b[1m\u001b[36mDownloads\u001b[m\u001b[m                \u001b[1m\u001b[36mGoogle Drive\u001b[m\u001b[m             \u001b[1m\u001b[36mPictures\u001b[m\u001b[m                 \u001b[1m\u001b[36mbin\u001b[m\u001b[m\r\n"
       ]
      },
      {
       "output_type": "stream",
       "stream": "stdout",
       "text": [
        "\u001b[1m\u001b[36mApplications\u001b[m\u001b[m             \u001b[1m\u001b[36mConduit\u001b[m\u001b[m                  \u001b[1m\u001b[36mDropbox\u001b[m\u001b[m                  \u001b[1m\u001b[36mLibrary\u001b[m\u001b[m                  \u001b[1m\u001b[36mPublic\u001b[m\u001b[m                   \u001b[1m\u001b[36mconda\u001b[m\u001b[m\r\n",
        "CS440 Lab 3.ipynb        \u001b[1m\u001b[36mDesktop\u001b[m\u001b[m                  FoodLog.ipynb            \u001b[1m\u001b[36mMovies\u001b[m\u001b[m                   \u001b[1m\u001b[36mSamsung\u001b[m\u001b[m                  \u001b[1m\u001b[36mpy3env\u001b[m\u001b[m\r\n",
        "CS440 Lab 5.ipynb        \u001b[1m\u001b[36mDocuments\u001b[m\u001b[m                \u001b[1m\u001b[36mGaslamp Games\u001b[m\u001b[m            \u001b[1m\u001b[36mMusic\u001b[m\u001b[m                    Traversal Analysis.ipynb\r\n",
        "CS440 Lab7.ipynb         \u001b[1m\u001b[36mDownloads\u001b[m\u001b[m                \u001b[1m\u001b[36mGoogle Drive\u001b[m\u001b[m             \u001b[1m\u001b[36mPictures\u001b[m\u001b[m                 \u001b[1m\u001b[36mbin\u001b[m\u001b[m\r\n"
       ]
      },
      {
       "output_type": "stream",
       "stream": "stdout",
       "text": [
        "\u001b[1m\u001b[36mApplications\u001b[m\u001b[m             \u001b[1m\u001b[36mConduit\u001b[m\u001b[m                  \u001b[1m\u001b[36mDropbox\u001b[m\u001b[m                  \u001b[1m\u001b[36mLibrary\u001b[m\u001b[m                  \u001b[1m\u001b[36mPublic\u001b[m\u001b[m                   \u001b[1m\u001b[36mconda\u001b[m\u001b[m\r\n",
        "CS440 Lab 3.ipynb        \u001b[1m\u001b[36mDesktop\u001b[m\u001b[m                  FoodLog.ipynb            \u001b[1m\u001b[36mMovies\u001b[m\u001b[m                   \u001b[1m\u001b[36mSamsung\u001b[m\u001b[m                  \u001b[1m\u001b[36mpy3env\u001b[m\u001b[m\r\n",
        "CS440 Lab 5.ipynb        \u001b[1m\u001b[36mDocuments\u001b[m\u001b[m                \u001b[1m\u001b[36mGaslamp Games\u001b[m\u001b[m            \u001b[1m\u001b[36mMusic\u001b[m\u001b[m                    Traversal Analysis.ipynb\r\n",
        "CS440 Lab7.ipynb         \u001b[1m\u001b[36mDownloads\u001b[m\u001b[m                \u001b[1m\u001b[36mGoogle Drive\u001b[m\u001b[m             \u001b[1m\u001b[36mPictures\u001b[m\u001b[m                 \u001b[1m\u001b[36mbin\u001b[m\u001b[m\r\n"
       ]
      },
      {
       "output_type": "stream",
       "stream": "stdout",
       "text": [
        "\u001b[1m\u001b[36mApplications\u001b[m\u001b[m             \u001b[1m\u001b[36mConduit\u001b[m\u001b[m                  \u001b[1m\u001b[36mDropbox\u001b[m\u001b[m                  \u001b[1m\u001b[36mLibrary\u001b[m\u001b[m                  \u001b[1m\u001b[36mPublic\u001b[m\u001b[m                   \u001b[1m\u001b[36mconda\u001b[m\u001b[m\r\n",
        "CS440 Lab 3.ipynb        \u001b[1m\u001b[36mDesktop\u001b[m\u001b[m                  FoodLog.ipynb            \u001b[1m\u001b[36mMovies\u001b[m\u001b[m                   \u001b[1m\u001b[36mSamsung\u001b[m\u001b[m                  \u001b[1m\u001b[36mpy3env\u001b[m\u001b[m\r\n",
        "CS440 Lab 5.ipynb        \u001b[1m\u001b[36mDocuments\u001b[m\u001b[m                \u001b[1m\u001b[36mGaslamp Games\u001b[m\u001b[m            \u001b[1m\u001b[36mMusic\u001b[m\u001b[m                    Traversal Analysis.ipynb\r\n",
        "CS440 Lab7.ipynb         \u001b[1m\u001b[36mDownloads\u001b[m\u001b[m                \u001b[1m\u001b[36mGoogle Drive\u001b[m\u001b[m             \u001b[1m\u001b[36mPictures\u001b[m\u001b[m                 \u001b[1m\u001b[36mbin\u001b[m\u001b[m\r\n"
       ]
      },
      {
       "output_type": "stream",
       "stream": "stdout",
       "text": [
        "\u001b[1m\u001b[36mApplications\u001b[m\u001b[m             \u001b[1m\u001b[36mConduit\u001b[m\u001b[m                  \u001b[1m\u001b[36mDropbox\u001b[m\u001b[m                  \u001b[1m\u001b[36mLibrary\u001b[m\u001b[m                  \u001b[1m\u001b[36mPublic\u001b[m\u001b[m                   \u001b[1m\u001b[36mconda\u001b[m\u001b[m\r\n",
        "CS440 Lab 3.ipynb        \u001b[1m\u001b[36mDesktop\u001b[m\u001b[m                  FoodLog.ipynb            \u001b[1m\u001b[36mMovies\u001b[m\u001b[m                   \u001b[1m\u001b[36mSamsung\u001b[m\u001b[m                  \u001b[1m\u001b[36mpy3env\u001b[m\u001b[m\r\n",
        "CS440 Lab 5.ipynb        \u001b[1m\u001b[36mDocuments\u001b[m\u001b[m                \u001b[1m\u001b[36mGaslamp Games\u001b[m\u001b[m            \u001b[1m\u001b[36mMusic\u001b[m\u001b[m                    Traversal Analysis.ipynb\r\n",
        "CS440 Lab7.ipynb         \u001b[1m\u001b[36mDownloads\u001b[m\u001b[m                \u001b[1m\u001b[36mGoogle Drive\u001b[m\u001b[m             \u001b[1m\u001b[36mPictures\u001b[m\u001b[m                 \u001b[1m\u001b[36mbin\u001b[m\u001b[m\r\n"
       ]
      },
      {
       "output_type": "stream",
       "stream": "stdout",
       "text": [
        "\u001b[1m\u001b[36mApplications\u001b[m\u001b[m             \u001b[1m\u001b[36mConduit\u001b[m\u001b[m                  \u001b[1m\u001b[36mDropbox\u001b[m\u001b[m                  \u001b[1m\u001b[36mLibrary\u001b[m\u001b[m                  \u001b[1m\u001b[36mPublic\u001b[m\u001b[m                   \u001b[1m\u001b[36mconda\u001b[m\u001b[m\r\n",
        "CS440 Lab 3.ipynb        \u001b[1m\u001b[36mDesktop\u001b[m\u001b[m                  FoodLog.ipynb            \u001b[1m\u001b[36mMovies\u001b[m\u001b[m                   \u001b[1m\u001b[36mSamsung\u001b[m\u001b[m                  \u001b[1m\u001b[36mpy3env\u001b[m\u001b[m\r\n",
        "CS440 Lab 5.ipynb        \u001b[1m\u001b[36mDocuments\u001b[m\u001b[m                \u001b[1m\u001b[36mGaslamp Games\u001b[m\u001b[m            \u001b[1m\u001b[36mMusic\u001b[m\u001b[m                    Traversal Analysis.ipynb\r\n",
        "CS440 Lab7.ipynb         \u001b[1m\u001b[36mDownloads\u001b[m\u001b[m                \u001b[1m\u001b[36mGoogle Drive\u001b[m\u001b[m             \u001b[1m\u001b[36mPictures\u001b[m\u001b[m                 \u001b[1m\u001b[36mbin\u001b[m\u001b[m\r\n"
       ]
      },
      {
       "output_type": "stream",
       "stream": "stdout",
       "text": [
        "\u001b[1m\u001b[36mApplications\u001b[m\u001b[m             \u001b[1m\u001b[36mConduit\u001b[m\u001b[m                  \u001b[1m\u001b[36mDropbox\u001b[m\u001b[m                  \u001b[1m\u001b[36mLibrary\u001b[m\u001b[m                  \u001b[1m\u001b[36mPublic\u001b[m\u001b[m                   \u001b[1m\u001b[36mconda\u001b[m\u001b[m\r\n",
        "CS440 Lab 3.ipynb        \u001b[1m\u001b[36mDesktop\u001b[m\u001b[m                  FoodLog.ipynb            \u001b[1m\u001b[36mMovies\u001b[m\u001b[m                   \u001b[1m\u001b[36mSamsung\u001b[m\u001b[m                  \u001b[1m\u001b[36mpy3env\u001b[m\u001b[m\r\n",
        "CS440 Lab 5.ipynb        \u001b[1m\u001b[36mDocuments\u001b[m\u001b[m                \u001b[1m\u001b[36mGaslamp Games\u001b[m\u001b[m            \u001b[1m\u001b[36mMusic\u001b[m\u001b[m                    Traversal Analysis.ipynb\r\n",
        "CS440 Lab7.ipynb         \u001b[1m\u001b[36mDownloads\u001b[m\u001b[m                \u001b[1m\u001b[36mGoogle Drive\u001b[m\u001b[m             \u001b[1m\u001b[36mPictures\u001b[m\u001b[m                 \u001b[1m\u001b[36mbin\u001b[m\u001b[m\r\n"
       ]
      },
      {
       "output_type": "stream",
       "stream": "stdout",
       "text": [
        "\u001b[1m\u001b[36mApplications\u001b[m\u001b[m             \u001b[1m\u001b[36mConduit\u001b[m\u001b[m                  \u001b[1m\u001b[36mDropbox\u001b[m\u001b[m                  \u001b[1m\u001b[36mLibrary\u001b[m\u001b[m                  \u001b[1m\u001b[36mPublic\u001b[m\u001b[m                   \u001b[1m\u001b[36mconda\u001b[m\u001b[m\r\n",
        "CS440 Lab 3.ipynb        \u001b[1m\u001b[36mDesktop\u001b[m\u001b[m                  FoodLog.ipynb            \u001b[1m\u001b[36mMovies\u001b[m\u001b[m                   \u001b[1m\u001b[36mSamsung\u001b[m\u001b[m                  \u001b[1m\u001b[36mpy3env\u001b[m\u001b[m\r\n",
        "CS440 Lab 5.ipynb        \u001b[1m\u001b[36mDocuments\u001b[m\u001b[m                \u001b[1m\u001b[36mGaslamp Games\u001b[m\u001b[m            \u001b[1m\u001b[36mMusic\u001b[m\u001b[m                    Traversal Analysis.ipynb\r\n",
        "CS440 Lab7.ipynb         \u001b[1m\u001b[36mDownloads\u001b[m\u001b[m                \u001b[1m\u001b[36mGoogle Drive\u001b[m\u001b[m             \u001b[1m\u001b[36mPictures\u001b[m\u001b[m                 \u001b[1m\u001b[36mbin\u001b[m\u001b[m\r\n"
       ]
      },
      {
       "output_type": "stream",
       "stream": "stdout",
       "text": [
        "\u001b[1m\u001b[36mApplications\u001b[m\u001b[m             \u001b[1m\u001b[36mConduit\u001b[m\u001b[m                  \u001b[1m\u001b[36mDropbox\u001b[m\u001b[m                  \u001b[1m\u001b[36mLibrary\u001b[m\u001b[m                  \u001b[1m\u001b[36mPublic\u001b[m\u001b[m                   \u001b[1m\u001b[36mconda\u001b[m\u001b[m\r\n",
        "CS440 Lab 3.ipynb        \u001b[1m\u001b[36mDesktop\u001b[m\u001b[m                  FoodLog.ipynb            \u001b[1m\u001b[36mMovies\u001b[m\u001b[m                   \u001b[1m\u001b[36mSamsung\u001b[m\u001b[m                  \u001b[1m\u001b[36mpy3env\u001b[m\u001b[m\r\n",
        "CS440 Lab 5.ipynb        \u001b[1m\u001b[36mDocuments\u001b[m\u001b[m                \u001b[1m\u001b[36mGaslamp Games\u001b[m\u001b[m            \u001b[1m\u001b[36mMusic\u001b[m\u001b[m                    Traversal Analysis.ipynb\r\n",
        "CS440 Lab7.ipynb         \u001b[1m\u001b[36mDownloads\u001b[m\u001b[m                \u001b[1m\u001b[36mGoogle Drive\u001b[m\u001b[m             \u001b[1m\u001b[36mPictures\u001b[m\u001b[m                 \u001b[1m\u001b[36mbin\u001b[m\u001b[m\r\n"
       ]
      },
      {
       "output_type": "stream",
       "stream": "stdout",
       "text": [
        "\u001b[1m\u001b[36mApplications\u001b[m\u001b[m             \u001b[1m\u001b[36mConduit\u001b[m\u001b[m                  \u001b[1m\u001b[36mDropbox\u001b[m\u001b[m                  \u001b[1m\u001b[36mLibrary\u001b[m\u001b[m                  \u001b[1m\u001b[36mPublic\u001b[m\u001b[m                   \u001b[1m\u001b[36mconda\u001b[m\u001b[m\r\n",
        "CS440 Lab 3.ipynb        \u001b[1m\u001b[36mDesktop\u001b[m\u001b[m                  FoodLog.ipynb            \u001b[1m\u001b[36mMovies\u001b[m\u001b[m                   \u001b[1m\u001b[36mSamsung\u001b[m\u001b[m                  \u001b[1m\u001b[36mpy3env\u001b[m\u001b[m\r\n",
        "CS440 Lab 5.ipynb        \u001b[1m\u001b[36mDocuments\u001b[m\u001b[m                \u001b[1m\u001b[36mGaslamp Games\u001b[m\u001b[m            \u001b[1m\u001b[36mMusic\u001b[m\u001b[m                    Traversal Analysis.ipynb\r\n",
        "CS440 Lab7.ipynb         \u001b[1m\u001b[36mDownloads\u001b[m\u001b[m                \u001b[1m\u001b[36mGoogle Drive\u001b[m\u001b[m             \u001b[1m\u001b[36mPictures\u001b[m\u001b[m                 \u001b[1m\u001b[36mbin\u001b[m\u001b[m\r\n"
       ]
      },
      {
       "output_type": "stream",
       "stream": "stdout",
       "text": [
        "\u001b[1m\u001b[36mApplications\u001b[m\u001b[m             \u001b[1m\u001b[36mConduit\u001b[m\u001b[m                  \u001b[1m\u001b[36mDropbox\u001b[m\u001b[m                  \u001b[1m\u001b[36mLibrary\u001b[m\u001b[m                  \u001b[1m\u001b[36mPublic\u001b[m\u001b[m                   \u001b[1m\u001b[36mconda\u001b[m\u001b[m\r\n",
        "CS440 Lab 3.ipynb        \u001b[1m\u001b[36mDesktop\u001b[m\u001b[m                  FoodLog.ipynb            \u001b[1m\u001b[36mMovies\u001b[m\u001b[m                   \u001b[1m\u001b[36mSamsung\u001b[m\u001b[m                  \u001b[1m\u001b[36mpy3env\u001b[m\u001b[m\r\n",
        "CS440 Lab 5.ipynb        \u001b[1m\u001b[36mDocuments\u001b[m\u001b[m                \u001b[1m\u001b[36mGaslamp Games\u001b[m\u001b[m            \u001b[1m\u001b[36mMusic\u001b[m\u001b[m                    Traversal Analysis.ipynb\r\n",
        "CS440 Lab7.ipynb         \u001b[1m\u001b[36mDownloads\u001b[m\u001b[m                \u001b[1m\u001b[36mGoogle Drive\u001b[m\u001b[m             \u001b[1m\u001b[36mPictures\u001b[m\u001b[m                 \u001b[1m\u001b[36mbin\u001b[m\u001b[m\r\n"
       ]
      },
      {
       "output_type": "stream",
       "stream": "stdout",
       "text": [
        "\u001b[1m\u001b[36mApplications\u001b[m\u001b[m             \u001b[1m\u001b[36mConduit\u001b[m\u001b[m                  \u001b[1m\u001b[36mDropbox\u001b[m\u001b[m                  \u001b[1m\u001b[36mLibrary\u001b[m\u001b[m                  \u001b[1m\u001b[36mPublic\u001b[m\u001b[m                   \u001b[1m\u001b[36mconda\u001b[m\u001b[m\r\n",
        "CS440 Lab 3.ipynb        \u001b[1m\u001b[36mDesktop\u001b[m\u001b[m                  FoodLog.ipynb            \u001b[1m\u001b[36mMovies\u001b[m\u001b[m                   \u001b[1m\u001b[36mSamsung\u001b[m\u001b[m                  \u001b[1m\u001b[36mpy3env\u001b[m\u001b[m\r\n",
        "CS440 Lab 5.ipynb        \u001b[1m\u001b[36mDocuments\u001b[m\u001b[m                \u001b[1m\u001b[36mGaslamp Games\u001b[m\u001b[m            \u001b[1m\u001b[36mMusic\u001b[m\u001b[m                    Traversal Analysis.ipynb\r\n",
        "CS440 Lab7.ipynb         \u001b[1m\u001b[36mDownloads\u001b[m\u001b[m                \u001b[1m\u001b[36mGoogle Drive\u001b[m\u001b[m             \u001b[1m\u001b[36mPictures\u001b[m\u001b[m                 \u001b[1m\u001b[36mbin\u001b[m\u001b[m\r\n"
       ]
      },
      {
       "output_type": "stream",
       "stream": "stdout",
       "text": [
        "\u001b[1m\u001b[36mApplications\u001b[m\u001b[m             \u001b[1m\u001b[36mConduit\u001b[m\u001b[m                  \u001b[1m\u001b[36mDropbox\u001b[m\u001b[m                  \u001b[1m\u001b[36mLibrary\u001b[m\u001b[m                  \u001b[1m\u001b[36mPublic\u001b[m\u001b[m                   \u001b[1m\u001b[36mconda\u001b[m\u001b[m\r\n",
        "CS440 Lab 3.ipynb        \u001b[1m\u001b[36mDesktop\u001b[m\u001b[m                  FoodLog.ipynb            \u001b[1m\u001b[36mMovies\u001b[m\u001b[m                   \u001b[1m\u001b[36mSamsung\u001b[m\u001b[m                  \u001b[1m\u001b[36mpy3env\u001b[m\u001b[m\r\n",
        "CS440 Lab 5.ipynb        \u001b[1m\u001b[36mDocuments\u001b[m\u001b[m                \u001b[1m\u001b[36mGaslamp Games\u001b[m\u001b[m            \u001b[1m\u001b[36mMusic\u001b[m\u001b[m                    Traversal Analysis.ipynb\r\n",
        "CS440 Lab7.ipynb         \u001b[1m\u001b[36mDownloads\u001b[m\u001b[m                \u001b[1m\u001b[36mGoogle Drive\u001b[m\u001b[m             \u001b[1m\u001b[36mPictures\u001b[m\u001b[m                 \u001b[1m\u001b[36mbin\u001b[m\u001b[m\r\n"
       ]
      },
      {
       "output_type": "stream",
       "stream": "stdout",
       "text": [
        "\u001b[1m\u001b[36mApplications\u001b[m\u001b[m             \u001b[1m\u001b[36mConduit\u001b[m\u001b[m                  \u001b[1m\u001b[36mDropbox\u001b[m\u001b[m                  \u001b[1m\u001b[36mLibrary\u001b[m\u001b[m                  \u001b[1m\u001b[36mPublic\u001b[m\u001b[m                   \u001b[1m\u001b[36mconda\u001b[m\u001b[m\r\n",
        "CS440 Lab 3.ipynb        \u001b[1m\u001b[36mDesktop\u001b[m\u001b[m                  FoodLog.ipynb            \u001b[1m\u001b[36mMovies\u001b[m\u001b[m                   \u001b[1m\u001b[36mSamsung\u001b[m\u001b[m                  \u001b[1m\u001b[36mpy3env\u001b[m\u001b[m\r\n",
        "CS440 Lab 5.ipynb        \u001b[1m\u001b[36mDocuments\u001b[m\u001b[m                \u001b[1m\u001b[36mGaslamp Games\u001b[m\u001b[m            \u001b[1m\u001b[36mMusic\u001b[m\u001b[m                    Traversal Analysis.ipynb\r\n",
        "CS440 Lab7.ipynb         \u001b[1m\u001b[36mDownloads\u001b[m\u001b[m                \u001b[1m\u001b[36mGoogle Drive\u001b[m\u001b[m             \u001b[1m\u001b[36mPictures\u001b[m\u001b[m                 \u001b[1m\u001b[36mbin\u001b[m\u001b[m\r\n"
       ]
      },
      {
       "output_type": "stream",
       "stream": "stdout",
       "text": [
        "\u001b[1m\u001b[36mApplications\u001b[m\u001b[m             \u001b[1m\u001b[36mConduit\u001b[m\u001b[m                  \u001b[1m\u001b[36mDropbox\u001b[m\u001b[m                  \u001b[1m\u001b[36mLibrary\u001b[m\u001b[m                  \u001b[1m\u001b[36mPublic\u001b[m\u001b[m                   \u001b[1m\u001b[36mconda\u001b[m\u001b[m\r\n",
        "CS440 Lab 3.ipynb        \u001b[1m\u001b[36mDesktop\u001b[m\u001b[m                  FoodLog.ipynb            \u001b[1m\u001b[36mMovies\u001b[m\u001b[m                   \u001b[1m\u001b[36mSamsung\u001b[m\u001b[m                  \u001b[1m\u001b[36mpy3env\u001b[m\u001b[m\r\n",
        "CS440 Lab 5.ipynb        \u001b[1m\u001b[36mDocuments\u001b[m\u001b[m                \u001b[1m\u001b[36mGaslamp Games\u001b[m\u001b[m            \u001b[1m\u001b[36mMusic\u001b[m\u001b[m                    Traversal Analysis.ipynb\r\n",
        "CS440 Lab7.ipynb         \u001b[1m\u001b[36mDownloads\u001b[m\u001b[m                \u001b[1m\u001b[36mGoogle Drive\u001b[m\u001b[m             \u001b[1m\u001b[36mPictures\u001b[m\u001b[m                 \u001b[1m\u001b[36mbin\u001b[m\u001b[m\r\n"
       ]
      },
      {
       "output_type": "stream",
       "stream": "stdout",
       "text": [
        "\u001b[1m\u001b[36mApplications\u001b[m\u001b[m             \u001b[1m\u001b[36mConduit\u001b[m\u001b[m                  \u001b[1m\u001b[36mDropbox\u001b[m\u001b[m                  \u001b[1m\u001b[36mLibrary\u001b[m\u001b[m                  \u001b[1m\u001b[36mPublic\u001b[m\u001b[m                   \u001b[1m\u001b[36mconda\u001b[m\u001b[m\r\n",
        "CS440 Lab 3.ipynb        \u001b[1m\u001b[36mDesktop\u001b[m\u001b[m                  FoodLog.ipynb            \u001b[1m\u001b[36mMovies\u001b[m\u001b[m                   \u001b[1m\u001b[36mSamsung\u001b[m\u001b[m                  \u001b[1m\u001b[36mpy3env\u001b[m\u001b[m\r\n",
        "CS440 Lab 5.ipynb        \u001b[1m\u001b[36mDocuments\u001b[m\u001b[m                \u001b[1m\u001b[36mGaslamp Games\u001b[m\u001b[m            \u001b[1m\u001b[36mMusic\u001b[m\u001b[m                    Traversal Analysis.ipynb\r\n",
        "CS440 Lab7.ipynb         \u001b[1m\u001b[36mDownloads\u001b[m\u001b[m                \u001b[1m\u001b[36mGoogle Drive\u001b[m\u001b[m             \u001b[1m\u001b[36mPictures\u001b[m\u001b[m                 \u001b[1m\u001b[36mbin\u001b[m\u001b[m\r\n"
       ]
      },
      {
       "output_type": "stream",
       "stream": "stdout",
       "text": [
        "10 loops, best of 3: 119 ms per loop\n"
       ]
      }
     ],
     "prompt_number": 2
    },
    {
     "cell_type": "code",
     "collapsed": false,
     "input": [],
     "language": "python",
     "metadata": {},
     "outputs": []
    }
   ],
   "metadata": {}
  }
 ]
}